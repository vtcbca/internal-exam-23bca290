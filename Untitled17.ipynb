{
 "cells": [
  {
   "cell_type": "code",
   "execution_count": 2,
   "id": "01d33251-f971-4455-a1fd-6445178a5f6f",
   "metadata": {},
   "outputs": [],
   "source": [
    "import sqlite3 as sq"
   ]
  },
  {
   "cell_type": "code",
   "execution_count": 4,
   "id": "119955f5-10f5-4d36-9ef6-ac632917df74",
   "metadata": {},
   "outputs": [],
   "source": [
    "conn=sq.connect('product.db')"
   ]
  },
  {
   "cell_type": "code",
   "execution_count": 9,
   "id": "7b530ce7-a7e2-4bb1-bee9-709537bb5418",
   "metadata": {},
   "outputs": [],
   "source": [
    "cur = conn.cursor()"
   ]
  },
  {
   "cell_type": "code",
   "execution_count": 13,
   "id": "fa62a818-99b8-4fad-8835-688c0ea0a268",
   "metadata": {},
   "outputs": [
    {
     "data": {
      "text/plain": [
       "<sqlite3.Cursor at 0x19d77053730>"
      ]
     },
     "execution_count": 13,
     "metadata": {},
     "output_type": "execute_result"
    }
   ],
   "source": [
    "cur.execute('''\n",
    "CREATE TABLE IF NOT EXISTS product (\n",
    "    userid int,\n",
    "    pid int primary key,\n",
    "    pname text,\n",
    "    prate number,\n",
    "    pqty int\n",
    ")\n",
    "''')"
   ]
  },
  {
   "cell_type": "code",
   "execution_count": 16,
   "id": "8439c34f-2be3-4fb3-a48c-0ac80d817f3a",
   "metadata": {},
   "outputs": [
    {
     "data": {
      "text/plain": [
       "<sqlite3.Cursor at 0x19d77053730>"
      ]
     },
     "execution_count": 16,
     "metadata": {},
     "output_type": "execute_result"
    }
   ],
   "source": [
    "cur.execute(\"insert into product values(1,999,'pen',20,250),(2,888,'note',30,200),(3,777,'book',15,150),(4,666,'pencil',5,100),(5,555,'eraser',10,240)\")"
   ]
  },
  {
   "cell_type": "code",
   "execution_count": 17,
   "id": "c68d4ac6-42ff-4e6f-8b6c-8176235c4b0e",
   "metadata": {},
   "outputs": [],
   "source": [
    "conn.commit()"
   ]
  },
  {
   "cell_type": "code",
   "execution_count": 21,
   "id": "9a66e3da-ea84-4203-8d1c-66c2fcc60dc8",
   "metadata": {},
   "outputs": [
    {
     "data": {
      "text/plain": [
       "<sqlite3.Cursor at 0x19d77053730>"
      ]
     },
     "execution_count": 21,
     "metadata": {},
     "output_type": "execute_result"
    }
   ],
   "source": [
    "cur.execute('''\n",
    "create trigger if not exists product_rate_qty\n",
    "before insert on product\n",
    "for each row\n",
    "begin\n",
    "   select\n",
    "    case\n",
    "       when new.prate = 0 THEN\n",
    "            raise (abort, 'Product rate cannot be zero.')\n",
    "        when new.pqty = 0 THEN\n",
    "            raise (abort, 'Product quantity cannot be zero.')\n",
    "    end;\n",
    "end;\n",
    "''')"
   ]
  },
  {
   "cell_type": "code",
   "execution_count": 22,
   "id": "df7e2ce6-5a26-40b1-a59b-facc9499c899",
   "metadata": {},
   "outputs": [
    {
     "data": {
      "text/plain": [
       "<sqlite3.Cursor at 0x19d77053730>"
      ]
     },
     "execution_count": 22,
     "metadata": {},
     "output_type": "execute_result"
    }
   ],
   "source": [
    "cur.execute(\"select * from product\")"
   ]
  },
  {
   "cell_type": "code",
   "execution_count": 23,
   "id": "d516810b-e3b5-4070-92e9-1a4909c8eb39",
   "metadata": {},
   "outputs": [
    {
     "data": {
      "text/plain": [
       "[(1, 101, 'pen', 20, 250),\n",
       " (2, 102, 'note', 30, 200),\n",
       " (3, 103, 'book', 15, 150),\n",
       " (4, 104, 'pencil', 5, 100),\n",
       " (5, 105, 'eraser', 10, 240),\n",
       " (1, 999, 'pen', 20, 250),\n",
       " (2, 888, 'note', 30, 200),\n",
       " (3, 777, 'book', 15, 150),\n",
       " (4, 666, 'pencil', 5, 100),\n",
       " (5, 555, 'eraser', 10, 240)]"
      ]
     },
     "execution_count": 23,
     "metadata": {},
     "output_type": "execute_result"
    }
   ],
   "source": [
    "cur.fetchall()"
   ]
  },
  {
   "cell_type": "code",
   "execution_count": null,
   "id": "7b3adf8f-733c-40d1-8573-cfef14f78b2c",
   "metadata": {},
   "outputs": [],
   "source": []
  }
 ],
 "metadata": {
  "kernelspec": {
   "display_name": "Python 3 (ipykernel)",
   "language": "python",
   "name": "python3"
  },
  "language_info": {
   "codemirror_mode": {
    "name": "ipython",
    "version": 3
   },
   "file_extension": ".py",
   "mimetype": "text/x-python",
   "name": "python",
   "nbconvert_exporter": "python",
   "pygments_lexer": "ipython3",
   "version": "3.9.6"
  }
 },
 "nbformat": 4,
 "nbformat_minor": 5
}
